{
 "cells": [
  {
   "cell_type": "code",
   "execution_count": 1,
   "metadata": {},
   "outputs": [],
   "source": [
    "from Bio import AlignIO"
   ]
  },
  {
   "cell_type": "markdown",
   "metadata": {},
   "source": [
    "## Load the alignment"
   ]
  },
  {
   "cell_type": "code",
   "execution_count": 2,
   "metadata": {},
   "outputs": [],
   "source": [
    "with open('clustal_alignment.aln', 'r') as infile:\n",
    "    alignment = AlignIO.read(infile, 'clustal')"
   ]
  },
  {
   "cell_type": "code",
   "execution_count": 4,
   "metadata": {},
   "outputs": [
    {
     "name": "stdout",
     "output_type": "stream",
     "text": [
      "SingleLetterAlphabet() alignment with 7 rows and 78 columns\n",
      "-AAUAAAGUAAGCUAAUU-UA--AAGCUAGUGGGUUCAUACCCC...U-A Bothriocroton_concolor_NC_017756_mtRNA-Met\n",
      "-AAUAAAGUCAGCUAAUU-GAUUAAGCUAGUGGGUUCAUACCCC...U-A Haemaphysalis_concinna_NC_034785.1_mtRNA-Met\n",
      "UAGUAAAGUCAGCUAAGUAUUUAAAGCUAGUGGGUUCAUACCCC...UAA Haemaphysalis_flava_NC_005292.1_mtRNA-Met\n",
      "UAACAAAGUAAGCUAAAU-UUUAAAGCUAGUGGGUUCAUACCCC...UAA Amblyomma_americanum_NC_027609.1_mtRNA-Met\n",
      "-AAUAAAGUAAGCUAAAAUUUAAAAGCUAGUGGGUUCAUACCCC...U-A Amblyomma_cajennense_NC_020333.1_mtRNA-Met\n",
      "-AGUAAAGUAAGCUAAAAU---AAAGCUAUUGGGUUCAUACCCC...U-A Rhipicephalus_sanguineus_NC_002074.1_mtRNA-Met\n",
      "UAAUAAAGUAAGCUAACU--UACAAGCUAGUGGGCUCAUACCCC...UAA Bothriocroton_undatum_NC_017757.1_mtRNA-Met\n"
     ]
    }
   ],
   "source": [
    "print(alignment)"
   ]
  },
  {
   "cell_type": "markdown",
   "metadata": {},
   "source": [
    "### Remember that indexing starts at 0 and is inclusive of start position, exclusive of end position"
   ]
  },
  {
   "cell_type": "markdown",
   "metadata": {},
   "source": [
    "#### Example: print all sequences, just first three positions"
   ]
  },
  {
   "cell_type": "code",
   "execution_count": 6,
   "metadata": {},
   "outputs": [
    {
     "name": "stdout",
     "output_type": "stream",
     "text": [
      "SingleLetterAlphabet() alignment with 7 rows and 3 columns\n",
      "-AA Bothriocroton_concolor_NC_017756_mtRNA-Met\n",
      "-AA Haemaphysalis_concinna_NC_034785.1_mtRNA-Met\n",
      "UAG Haemaphysalis_flava_NC_005292.1_mtRNA-Met\n",
      "UAA Amblyomma_americanum_NC_027609.1_mtRNA-Met\n",
      "-AA Amblyomma_cajennense_NC_020333.1_mtRNA-Met\n",
      "-AG Rhipicephalus_sanguineus_NC_002074.1_mtRNA-Met\n",
      "UAA Bothriocroton_undatum_NC_017757.1_mtRNA-Met\n"
     ]
    }
   ],
   "source": [
    "print(alignment[:, 0:3])"
   ]
  },
  {
   "cell_type": "markdown",
   "metadata": {},
   "source": [
    "#### Example, print only first two sequences, first three positions"
   ]
  },
  {
   "cell_type": "code",
   "execution_count": 7,
   "metadata": {},
   "outputs": [
    {
     "name": "stdout",
     "output_type": "stream",
     "text": [
      "SingleLetterAlphabet() alignment with 2 rows and 3 columns\n",
      "-AA Bothriocroton_concolor_NC_017756_mtRNA-Met\n",
      "-AA Haemaphysalis_concinna_NC_034785.1_mtRNA-Met\n"
     ]
    }
   ],
   "source": [
    "print(alignment[0:2, 0:3])"
   ]
  },
  {
   "cell_type": "markdown",
   "metadata": {},
   "source": [
    "### Save the 'slice' of interest with a different variable name"
   ]
  },
  {
   "cell_type": "code",
   "execution_count": 28,
   "metadata": {},
   "outputs": [],
   "source": [
    "aoi = alignment[:, 0:3]"
   ]
  },
  {
   "cell_type": "code",
   "execution_count": 9,
   "metadata": {},
   "outputs": [
    {
     "name": "stdout",
     "output_type": "stream",
     "text": [
      "SingleLetterAlphabet() alignment with 7 rows and 3 columns\n",
      "-AA Bothriocroton_concolor_NC_017756_mtRNA-Met\n",
      "-AA Haemaphysalis_concinna_NC_034785.1_mtRNA-Met\n",
      "UAG Haemaphysalis_flava_NC_005292.1_mtRNA-Met\n",
      "UAA Amblyomma_americanum_NC_027609.1_mtRNA-Met\n",
      "-AA Amblyomma_cajennense_NC_020333.1_mtRNA-Met\n",
      "-AG Rhipicephalus_sanguineus_NC_002074.1_mtRNA-Met\n",
      "UAA Bothriocroton_undatum_NC_017757.1_mtRNA-Met\n"
     ]
    }
   ],
   "source": [
    "print(aoi)"
   ]
  },
  {
   "cell_type": "markdown",
   "metadata": {},
   "source": [
    "## Write to file"
   ]
  },
  {
   "cell_type": "code",
   "execution_count": 32,
   "metadata": {},
   "outputs": [],
   "source": [
    "with open ('outfile_name.fa', 'w') as outfile:\n",
    "    AlignIO.write(alignment, outfile, 'fasta')"
   ]
  }
 ],
 "metadata": {
  "kernelspec": {
   "display_name": "Python 3",
   "language": "python",
   "name": "python3"
  },
  "language_info": {
   "codemirror_mode": {
    "name": "ipython",
    "version": 3
   },
   "file_extension": ".py",
   "mimetype": "text/x-python",
   "name": "python",
   "nbconvert_exporter": "python",
   "pygments_lexer": "ipython3",
   "version": "3.6.0"
  }
 },
 "nbformat": 4,
 "nbformat_minor": 2
}
